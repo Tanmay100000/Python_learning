{
  "nbformat": 4,
  "nbformat_minor": 0,
  "metadata": {
    "colab": {
      "provenance": [],
      "authorship_tag": "ABX9TyMVPoFTly0HdCKHrfSYckN+",
      "include_colab_link": true
    },
    "kernelspec": {
      "name": "python3",
      "display_name": "Python 3"
    },
    "language_info": {
      "name": "python"
    }
  },
  "cells": [
    {
      "cell_type": "markdown",
      "metadata": {
        "id": "view-in-github",
        "colab_type": "text"
      },
      "source": [
        "<a href=\"https://colab.research.google.com/github/Tanmay100000/Python_learning/blob/main/Variables_and_Data_Types.ipynb\" target=\"_parent\"><img src=\"https://colab.research.google.com/assets/colab-badge.svg\" alt=\"Open In Colab\"/></a>"
      ]
    },
    {
      "cell_type": "markdown",
      "source": [
        "# Variable\n",
        "### A variable is a name given to amemory location in a program."
      ],
      "metadata": {
        "id": "6Q2H6sdowqri"
      }
    },
    {
      "cell_type": "code",
      "source": [
        "name = \"Tanmay\"\n",
        "age=23\n",
        "price = 100.5\n",
        "\n",
        "\n",
        "print(name)\n",
        "print(type(name))\n",
        "\n",
        "\n",
        "\n",
        "print(age)\n",
        "print(type(age))\n",
        "\n",
        "\n",
        "print(price)\n",
        "print(type(price))\n",
        "\n",
        "\n"
      ],
      "metadata": {
        "colab": {
          "base_uri": "https://localhost:8080/"
        },
        "id": "T4n6zWQCw-rd",
        "outputId": "219c070a-f071-45d8-cde2-9b6f2e8e1f4d"
      },
      "execution_count": null,
      "outputs": [
        {
          "output_type": "stream",
          "name": "stdout",
          "text": [
            "Tanmay\n",
            "<class 'str'>\n",
            "6\n",
            "23\n",
            "<class 'int'>\n",
            "100.5\n",
            "<class 'float'>\n"
          ]
        }
      ]
    },
    {
      "cell_type": "markdown",
      "source": [
        "---\n",
        "\n",
        "**Rules for Identifiers**\n",
        "\n",
        "1. Identifiers can be a combination of uppercase and lowercase letters, digits, or an underscore (_).\n",
        "   So `myVariable`, `variable_1`, `variable_for_print` all are valid Python identifiers.\n",
        "   \n",
        "2. An identifier cannot start with a digit. So while `variable1` is valid, `1variable` is not valid.\n",
        "   \n",
        "3. We can't use special symbols like `!`, `#`, `@`, `%`, `$`, etc. in our identifier.\n",
        "   \n",
        "4. An identifier can be of any length.\n",
        "\n",
        "---\n",
        "\n"
      ],
      "metadata": {
        "id": "HigH41rT7pws"
      }
    },
    {
      "cell_type": "markdown",
      "source": [
        "# Python Data Types\n",
        "\n",
        "\n",
        "* Integers\n",
        "\n",
        "* String\n",
        "\n",
        "* Float\n",
        "\n",
        "* Boolean\n",
        "\n",
        "* None   \n",
        "  \n",
        "\n",
        "\n",
        "\n"
      ],
      "metadata": {
        "id": "fy3HD9WBLLAt"
      }
    },
    {
      "cell_type": "code",
      "source": [
        "# Integer\n",
        "age = 25\n",
        "\n",
        "print(age)\n",
        "print(type(age))\n",
        "print(f\"{age},\\nType: {type(age)}\")  # another way to write\n"
      ],
      "metadata": {
        "id": "5on_BOmi7zL7",
        "colab": {
          "base_uri": "https://localhost:8080/"
        },
        "outputId": "13e1bc8c-41a1-4a16-bc49-8680d3d5c94e"
      },
      "execution_count": 6,
      "outputs": [
        {
          "output_type": "stream",
          "name": "stdout",
          "text": [
            "25\n",
            "<class 'int'>\n",
            "25,\n",
            "Type: <class 'int'>\n"
          ]
        }
      ]
    },
    {
      "cell_type": "code",
      "source": [
        "# String\n",
        "name = \"Devops\"\n",
        "print(name)\n",
        "print(type(name))\n",
        "print(f\"Name : {name},\\nType: {type(name)}\")"
      ],
      "metadata": {
        "colab": {
          "base_uri": "https://localhost:8080/"
        },
        "id": "YbK22bnpMp2s",
        "outputId": "dab4d9a6-b0df-4a0f-bba0-85fa086ee718"
      },
      "execution_count": 9,
      "outputs": [
        {
          "output_type": "stream",
          "name": "stdout",
          "text": [
            "Devops\n",
            "<class 'str'>\n",
            "Name : Devops,\n",
            "Type: <class 'str'>\n"
          ]
        }
      ]
    },
    {
      "cell_type": "code",
      "source": [
        "# Float\n",
        "height = 6.5\n",
        "\n",
        "print(height)\n",
        "print(type(height))\n",
        "print(f\"Height: {height},\\nType: {type(height)}\") # another way to write\n"
      ],
      "metadata": {
        "colab": {
          "base_uri": "https://localhost:8080/"
        },
        "id": "z-VtBO5zLr6G",
        "outputId": "39140640-3ba9-4e9a-c601-42605e89711f"
      },
      "execution_count": 8,
      "outputs": [
        {
          "output_type": "stream",
          "name": "stdout",
          "text": [
            "6.5\n",
            "<class 'float'>\n",
            "Height: 6.5,\n",
            "Type: <class 'float'>\n"
          ]
        }
      ]
    },
    {
      "cell_type": "code",
      "source": [],
      "metadata": {
        "id": "xKq-_te0McZz"
      },
      "execution_count": null,
      "outputs": []
    }
  ]
}